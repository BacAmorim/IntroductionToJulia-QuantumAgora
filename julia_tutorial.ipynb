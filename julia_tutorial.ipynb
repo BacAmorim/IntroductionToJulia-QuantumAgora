{
 "cells": [
  {
   "cell_type": "markdown",
   "metadata": {},
   "source": [
    "# Julia Language: Hands on tutorial"
   ]
  },
  {
   "cell_type": "markdown",
   "metadata": {},
   "source": [
    "## 1. Basic syntax"
   ]
  },
  {
   "cell_type": "markdown",
   "metadata": {},
   "source": [
    "## 1.1. Variables"
   ]
  },
  {
   "cell_type": "markdown",
   "metadata": {},
   "source": [
    "Assign variables:"
   ]
  },
  {
   "cell_type": "code",
   "execution_count": null,
   "metadata": {},
   "outputs": [],
   "source": [
    "n = 10 # an integer\n",
    "x = 1.0 # a real number\n",
    "s = \"Julia Language\"\n",
    "c = 'a'\n",
    ";  # we can suppress the output of a cell by adding a ; at the end of it"
   ]
  },
  {
   "cell_type": "markdown",
   "metadata": {},
   "source": [
    "Every object in Julia has a type. We can check it with `typeof`:"
   ]
  },
  {
   "cell_type": "code",
   "execution_count": null,
   "metadata": {},
   "outputs": [],
   "source": [
    "typeof(n), typeof(x), typeof(s), typeof(c)"
   ]
  },
  {
   "cell_type": "markdown",
   "metadata": {},
   "source": [
    "We can use unicode caracters to define variables:"
   ]
  },
  {
   "cell_type": "code",
   "execution_count": null,
   "metadata": {},
   "outputs": [],
   "source": [
    "α = 1/137"
   ]
  },
  {
   "cell_type": "markdown",
   "metadata": {},
   "source": [
    "Julia knows about complex numbers:"
   ]
  },
  {
   "cell_type": "code",
   "execution_count": null,
   "metadata": {},
   "outputs": [],
   "source": [
    "z = 1.0 + 0.5im"
   ]
  },
  {
   "cell_type": "code",
   "execution_count": null,
   "metadata": {},
   "outputs": [],
   "source": [
    "typeof(z)"
   ]
  },
  {
   "cell_type": "code",
   "execution_count": null,
   "metadata": {},
   "outputs": [],
   "source": [
    "real(z)"
   ]
  },
  {
   "cell_type": "code",
   "execution_count": null,
   "metadata": {},
   "outputs": [],
   "source": [
    "imag(z)"
   ]
  },
  {
   "cell_type": "code",
   "execution_count": null,
   "metadata": {},
   "outputs": [],
   "source": [
    "abs(z)"
   ]
  },
  {
   "cell_type": "code",
   "execution_count": null,
   "metadata": {},
   "outputs": [],
   "source": [
    "abs2(z) # a better way of evaluating abs(z)^2"
   ]
  },
  {
   "cell_type": "code",
   "execution_count": null,
   "metadata": {},
   "outputs": [],
   "source": [
    "angle(z) # argument of complex number"
   ]
  },
  {
   "cell_type": "markdown",
   "metadata": {},
   "source": [
    "We can insert variables inside strings using string interpolation with the `$` symbol:"
   ]
  },
  {
   "cell_type": "code",
   "execution_count": null,
   "metadata": {},
   "outputs": [],
   "source": [
    "\"n is an $(typeof(n)) and is equal to $n\""
   ]
  },
  {
   "cell_type": "markdown",
   "metadata": {},
   "source": [
    "## 1.2. Basic arithmetic"
   ]
  },
  {
   "cell_type": "markdown",
   "metadata": {},
   "source": [
    "Let us do some basic arithmetic:"
   ]
  },
  {
   "cell_type": "code",
   "execution_count": null,
   "metadata": {},
   "outputs": [],
   "source": [
    "2*x"
   ]
  },
  {
   "cell_type": "markdown",
   "metadata": {},
   "source": [
    "Actually, if we write a number next to a variable name, it will performe multiplication, just like normal math sintax!"
   ]
  },
  {
   "cell_type": "code",
   "execution_count": null,
   "metadata": {},
   "outputs": [],
   "source": [
    "2x"
   ]
  },
  {
   "cell_type": "code",
   "execution_count": null,
   "metadata": {},
   "outputs": [],
   "source": [
    "x + z # adding two numbers"
   ]
  },
  {
   "cell_type": "code",
   "execution_count": null,
   "metadata": {},
   "outputs": [],
   "source": [
    "n*x # multiply two numbers"
   ]
  },
  {
   "cell_type": "code",
   "execution_count": null,
   "metadata": {},
   "outputs": [],
   "source": [
    "x^2 # power"
   ]
  },
  {
   "cell_type": "code",
   "execution_count": null,
   "metadata": {},
   "outputs": [],
   "source": [
    "x/2 # division"
   ]
  },
  {
   "cell_type": "code",
   "execution_count": null,
   "metadata": {},
   "outputs": [],
   "source": [
    "println(x)\n",
    "x += 2 # increment x by 2\n",
    "x"
   ]
  },
  {
   "cell_type": "code",
   "execution_count": null,
   "metadata": {},
   "outputs": [],
   "source": [
    "println(z)\n",
    "z *= 2 # multiple z by 2\n",
    "z"
   ]
  },
  {
   "cell_type": "code",
   "execution_count": null,
   "metadata": {},
   "outputs": [],
   "source": [
    "div(5, 2) # integer division"
   ]
  },
  {
   "cell_type": "code",
   "execution_count": null,
   "metadata": {},
   "outputs": [],
   "source": [
    "mod(5, 4) # 5 mod 4"
   ]
  },
  {
   "cell_type": "markdown",
   "metadata": {},
   "source": [
    "## 1.3. Elementary functions"
   ]
  },
  {
   "cell_type": "markdown",
   "metadata": {},
   "source": [
    "Julia comes built in with the usual elementray functions"
   ]
  },
  {
   "cell_type": "code",
   "execution_count": null,
   "metadata": {},
   "outputs": [],
   "source": [
    "sqrt(9)"
   ]
  },
  {
   "cell_type": "code",
   "execution_count": null,
   "metadata": {},
   "outputs": [],
   "source": [
    "exp(2.0+1.0im)"
   ]
  },
  {
   "cell_type": "code",
   "execution_count": null,
   "metadata": {},
   "outputs": [],
   "source": [
    "cos(x)"
   ]
  },
  {
   "cell_type": "code",
   "execution_count": null,
   "metadata": {},
   "outputs": [],
   "source": [
    "sin(-1.0)"
   ]
  },
  {
   "cell_type": "code",
   "execution_count": null,
   "metadata": {},
   "outputs": [],
   "source": [
    "cis(x)"
   ]
  },
  {
   "cell_type": "code",
   "execution_count": null,
   "metadata": {},
   "outputs": [],
   "source": [
    "cos(x) + im*sin(x)"
   ]
  },
  {
   "cell_type": "code",
   "execution_count": null,
   "metadata": {},
   "outputs": [],
   "source": [
    "sinh(5.0)"
   ]
  },
  {
   "cell_type": "code",
   "execution_count": null,
   "metadata": {},
   "outputs": [],
   "source": [
    "atan(imag(z), real(z)) # two argument arctan"
   ]
  },
  {
   "cell_type": "markdown",
   "metadata": {},
   "source": [
    "## 1.4. Define functions"
   ]
  },
  {
   "cell_type": "markdown",
   "metadata": {},
   "source": [
    "Simple and short functions can be defined in Julia inline with a mathematics-like syntax:"
   ]
  },
  {
   "cell_type": "code",
   "execution_count": null,
   "metadata": {},
   "outputs": [],
   "source": [
    "f(x) = x^2 - 1"
   ]
  },
  {
   "cell_type": "markdown",
   "metadata": {},
   "source": [
    "Let us evaluate it:"
   ]
  },
  {
   "cell_type": "code",
   "execution_count": null,
   "metadata": {},
   "outputs": [],
   "source": [
    "f(2)"
   ]
  },
  {
   "cell_type": "markdown",
   "metadata": {},
   "source": [
    "This syntax is useful for simple functions. For more complicated functions, we can defined then in a multiline form:"
   ]
  },
  {
   "cell_type": "code",
   "execution_count": null,
   "metadata": {},
   "outputs": [],
   "source": [
    "function f2(x)\n",
    "    out = x^2-1\n",
    "    return out\n",
    "end"
   ]
  },
  {
   "cell_type": "code",
   "execution_count": null,
   "metadata": {},
   "outputs": [],
   "source": [
    "f2(2)"
   ]
  },
  {
   "cell_type": "markdown",
   "metadata": {},
   "source": [
    "The keyword `function` declares that the block of code is a function. The function body must be ended with the `end` keyword. The quantity that is returned by the function is marked by the keyword `return`. \n",
    "\n",
    "It is also possible to omit the keyword `return`. In that case, the function returns the last piece of code evaluated within the function body. The following code is equivalent to `f2`:"
   ]
  },
  {
   "cell_type": "code",
   "execution_count": null,
   "metadata": {},
   "outputs": [],
   "source": [
    "function f3(x)\n",
    "    x^2-1\n",
    "end"
   ]
  },
  {
   "cell_type": "code",
   "execution_count": null,
   "metadata": {},
   "outputs": [],
   "source": [
    "f3(2)"
   ]
  },
  {
   "cell_type": "markdown",
   "metadata": {},
   "source": [
    "Functions can have predefined optional argument and keyword arguments:"
   ]
  },
  {
   "cell_type": "code",
   "execution_count": null,
   "metadata": {},
   "outputs": [],
   "source": [
    "function foo(x, a=1; b=0, n)\n",
    "    return (a*x+b)^n\n",
    "end"
   ]
  },
  {
   "cell_type": "code",
   "execution_count": null,
   "metadata": {},
   "outputs": [],
   "source": [
    "foo(1, 2, n=2, b=1) # keyword arguments can be specified in any order"
   ]
  },
  {
   "cell_type": "code",
   "execution_count": null,
   "metadata": {},
   "outputs": [],
   "source": [
    "foo(1) # this fails because n is not defined"
   ]
  },
  {
   "cell_type": "code",
   "execution_count": null,
   "metadata": {},
   "outputs": [],
   "source": [
    "foo(1, n=2)"
   ]
  },
  {
   "cell_type": "code",
   "execution_count": null,
   "metadata": {},
   "outputs": [],
   "source": [
    "foo(1, 2, n=1)"
   ]
  },
  {
   "cell_type": "markdown",
   "metadata": {},
   "source": [
    "It is also possible to define anonymous functions."
   ]
  },
  {
   "cell_type": "code",
   "execution_count": null,
   "metadata": {},
   "outputs": [],
   "source": [
    "f4 = x -> x^2 - 1 "
   ]
  },
  {
   "cell_type": "code",
   "execution_count": null,
   "metadata": {},
   "outputs": [],
   "source": [
    "f4(2)"
   ]
  },
  {
   "cell_type": "markdown",
   "metadata": {},
   "source": [
    "Used like above, anonimous functions seem a bit silly (we it a name!). Their main usage is to pass functions as other arguments to other functions."
   ]
  },
  {
   "cell_type": "code",
   "execution_count": null,
   "metadata": {},
   "outputs": [],
   "source": [
    "squaredf(f, x) = f(x)^2\n",
    "\n",
    "h(x) = squaredf(u->u-1, x)"
   ]
  },
  {
   "cell_type": "markdown",
   "metadata": {},
   "source": [
    "`h` is equivalent to:"
   ]
  },
  {
   "cell_type": "code",
   "execution_count": null,
   "metadata": {},
   "outputs": [],
   "source": [
    "g(x) = (x-1)^2"
   ]
  },
  {
   "cell_type": "code",
   "execution_count": null,
   "metadata": {},
   "outputs": [],
   "source": [
    "h(5.0), g(5.0)"
   ]
  },
  {
   "cell_type": "markdown",
   "metadata": {},
   "source": [
    "## 1.5. Vectors, Matrices and general Arrays"
   ]
  },
  {
   "cell_type": "markdown",
   "metadata": {},
   "source": [
    "### Vectors\n",
    "A vector in Julia is written as"
   ]
  },
  {
   "cell_type": "code",
   "execution_count": null,
   "metadata": {},
   "outputs": [],
   "source": [
    "v = [1, 2, 3]"
   ]
  },
  {
   "cell_type": "markdown",
   "metadata": {},
   "source": [
    "We see that a vector is a 1D array."
   ]
  },
  {
   "cell_type": "markdown",
   "metadata": {},
   "source": [
    "Elements of the array can be accessed as:"
   ]
  },
  {
   "cell_type": "code",
   "execution_count": null,
   "metadata": {},
   "outputs": [],
   "source": [
    "v[1] # by default array indexing starts with 1"
   ]
  },
  {
   "cell_type": "markdown",
   "metadata": {},
   "source": [
    "Array entries can be set as:"
   ]
  },
  {
   "cell_type": "code",
   "execution_count": null,
   "metadata": {},
   "outputs": [],
   "source": [
    "v[2] = 5\n",
    "v"
   ]
  },
  {
   "cell_type": "code",
   "execution_count": null,
   "metadata": {},
   "outputs": [],
   "source": [
    "v[2:3]"
   ]
  },
  {
   "cell_type": "code",
   "execution_count": null,
   "metadata": {},
   "outputs": [],
   "source": [
    "v[2:end]"
   ]
  },
  {
   "cell_type": "code",
   "execution_count": null,
   "metadata": {},
   "outputs": [],
   "source": [
    "v[begin:2]"
   ]
  },
  {
   "cell_type": "markdown",
   "metadata": {},
   "source": [
    "Elements can be added to 1D arrays:"
   ]
  },
  {
   "cell_type": "code",
   "execution_count": null,
   "metadata": {},
   "outputs": [],
   "source": [
    "v"
   ]
  },
  {
   "cell_type": "code",
   "execution_count": null,
   "metadata": {},
   "outputs": [],
   "source": [
    "push!(v, 4)"
   ]
  },
  {
   "cell_type": "markdown",
   "metadata": {},
   "source": [
    "Notice the `!` at the end of the function name. This has nothing to do with Julia sintax. But it is a widelly used convention: functions that end with an `!` modify its first argument. \n",
    "For example compared the two built in Julia functions `sort` and `sort!`"
   ]
  },
  {
   "cell_type": "markdown",
   "metadata": {},
   "source": [
    "### Matrices\n",
    "Matrices can be written as"
   ]
  },
  {
   "cell_type": "code",
   "execution_count": null,
   "metadata": {},
   "outputs": [],
   "source": [
    "A = [1 2; 3 4]"
   ]
  },
  {
   "cell_type": "code",
   "execution_count": null,
   "metadata": {},
   "outputs": [],
   "source": [
    "A[1, 2]"
   ]
  },
  {
   "cell_type": "markdown",
   "metadata": {},
   "source": [
    "Entries of a matrix (and arrays with dimension > 1) can also be accessed using linear indexing:"
   ]
  },
  {
   "cell_type": "code",
   "execution_count": null,
   "metadata": {},
   "outputs": [],
   "source": [
    "A[1]"
   ]
  },
  {
   "cell_type": "code",
   "execution_count": null,
   "metadata": {},
   "outputs": [],
   "source": [
    "A[2]"
   ]
  },
  {
   "cell_type": "code",
   "execution_count": null,
   "metadata": {},
   "outputs": [],
   "source": [
    "A[3]"
   ]
  },
  {
   "cell_type": "markdown",
   "metadata": {},
   "source": [
    "All the elements of an array can be obtained as stored in memory with:"
   ]
  },
  {
   "cell_type": "code",
   "execution_count": null,
   "metadata": {},
   "outputs": [],
   "source": [
    "A[:]"
   ]
  },
  {
   "cell_type": "markdown",
   "metadata": {},
   "source": [
    "We can get a column of a matrix as:"
   ]
  },
  {
   "cell_type": "code",
   "execution_count": null,
   "metadata": {},
   "outputs": [],
   "source": [
    "A[:, 1]"
   ]
  },
  {
   "cell_type": "markdown",
   "metadata": {},
   "source": [
    "and a row as:"
   ]
  },
  {
   "cell_type": "code",
   "execution_count": null,
   "metadata": {},
   "outputs": [],
   "source": [
    "A[1, :]"
   ]
  },
  {
   "cell_type": "markdown",
   "metadata": {},
   "source": [
    "### Ways to innitialize arrays"
   ]
  },
  {
   "cell_type": "code",
   "execution_count": null,
   "metadata": {},
   "outputs": [],
   "source": [
    "zeros(3, 2) #create 3x2 matrix filled with zeros (floats)"
   ]
  },
  {
   "cell_type": "code",
   "execution_count": null,
   "metadata": {},
   "outputs": [],
   "source": [
    "zeros(Int, 3, 2) #create 3x2 matrix filled with zeros (integers)"
   ]
  },
  {
   "cell_type": "code",
   "execution_count": null,
   "metadata": {},
   "outputs": [],
   "source": [
    "fill(2.0, 3, 2) #create 5x2 matrix filled with the value 2.0"
   ]
  },
  {
   "cell_type": "code",
   "execution_count": null,
   "metadata": {},
   "outputs": [],
   "source": [
    "rand(3, 2) # 3x2 matrix filled with uniform random numbers in interval [0, 1]"
   ]
  },
  {
   "cell_type": "code",
   "execution_count": null,
   "metadata": {},
   "outputs": [],
   "source": [
    "rand(1:3, 3, 2) # 5x5 matrix filled with uniform random integer numbers in interval set {1, 2, 3}"
   ]
  },
  {
   "cell_type": "code",
   "execution_count": null,
   "metadata": {},
   "outputs": [],
   "source": [
    "Array{Float64}(undef, 3, 2) # uninitiallized 3x3 matrix of floats"
   ]
  },
  {
   "cell_type": "code",
   "execution_count": null,
   "metadata": {},
   "outputs": [],
   "source": [
    "list = Float64[] # empty 1D array of Floats"
   ]
  },
  {
   "cell_type": "code",
   "execution_count": null,
   "metadata": {},
   "outputs": [],
   "source": [
    "typeof(list)"
   ]
  },
  {
   "cell_type": "code",
   "execution_count": null,
   "metadata": {},
   "outputs": [],
   "source": [
    "push!(list, 1.0)\n",
    "list"
   ]
  },
  {
   "cell_type": "markdown",
   "metadata": {},
   "source": [
    "### Arrays are passed as references\n",
    "Notice that arrays are passed as references. Let us see what this means:"
   ]
  },
  {
   "cell_type": "code",
   "execution_count": null,
   "metadata": {},
   "outputs": [],
   "source": [
    "v"
   ]
  },
  {
   "cell_type": "code",
   "execution_count": null,
   "metadata": {},
   "outputs": [],
   "source": [
    "u = v"
   ]
  },
  {
   "cell_type": "code",
   "execution_count": null,
   "metadata": {},
   "outputs": [],
   "source": [
    "u[1] = 10"
   ]
  },
  {
   "cell_type": "code",
   "execution_count": null,
   "metadata": {},
   "outputs": [],
   "source": [
    "v"
   ]
  },
  {
   "cell_type": "markdown",
   "metadata": {},
   "source": [
    "`u` is just another name for `v`. We haven't copied the data stored in `v`! If we cant to create a new vector with the same data as `v` but modifying one value, we must first copy `v`"
   ]
  },
  {
   "cell_type": "code",
   "execution_count": null,
   "metadata": {},
   "outputs": [],
   "source": [
    "w = copy(v)"
   ]
  },
  {
   "cell_type": "code",
   "execution_count": null,
   "metadata": {},
   "outputs": [],
   "source": [
    "w[3] = -5\n",
    "w"
   ]
  },
  {
   "cell_type": "code",
   "execution_count": null,
   "metadata": {},
   "outputs": [],
   "source": [
    "v"
   ]
  },
  {
   "cell_type": "markdown",
   "metadata": {},
   "source": [
    "The same happens for functions that modify its arguments"
   ]
  },
  {
   "cell_type": "code",
   "execution_count": null,
   "metadata": {},
   "outputs": [],
   "source": [
    "function set1(array)\n",
    "    out = copy(array)\n",
    "    out[1] = 1\n",
    "    return out\n",
    "end"
   ]
  },
  {
   "cell_type": "code",
   "execution_count": null,
   "metadata": {},
   "outputs": [],
   "source": [
    "v = [0, 0, 0]"
   ]
  },
  {
   "cell_type": "code",
   "execution_count": null,
   "metadata": {},
   "outputs": [],
   "source": [
    "set1(v), v"
   ]
  },
  {
   "cell_type": "code",
   "execution_count": null,
   "metadata": {},
   "outputs": [],
   "source": [
    "function set1!(array)\n",
    "    array[1] = 1\n",
    "    return array\n",
    "end"
   ]
  },
  {
   "cell_type": "code",
   "execution_count": null,
   "metadata": {},
   "outputs": [],
   "source": [
    "v, set1!(v), v"
   ]
  },
  {
   "cell_type": "markdown",
   "metadata": {},
   "source": [
    "Notice the `!` at the end of the function name. This has nothing to do with Julia sintax. But it is a widelly used convention: functions that end with an `!` modify its first argument."
   ]
  },
  {
   "cell_type": "code",
   "execution_count": null,
   "metadata": {},
   "outputs": [],
   "source": [
    "sort(v), v"
   ]
  },
  {
   "cell_type": "code",
   "execution_count": null,
   "metadata": {},
   "outputs": [],
   "source": [
    "sort!(v), v"
   ]
  },
  {
   "cell_type": "markdown",
   "metadata": {},
   "source": [
    "## 1.6. Other data structures"
   ]
  },
  {
   "cell_type": "markdown",
   "metadata": {},
   "source": [
    "### Inhomogeneous arrays"
   ]
  },
  {
   "cell_type": "code",
   "execution_count": null,
   "metadata": {},
   "outputs": [],
   "source": [
    "list = [1, 2.0, \"hello\"]"
   ]
  },
  {
   "cell_type": "markdown",
   "metadata": {},
   "source": [
    "### Tuples"
   ]
  },
  {
   "cell_type": "code",
   "execution_count": null,
   "metadata": {},
   "outputs": [],
   "source": [
    "t = (1, 2, 3)"
   ]
  },
  {
   "cell_type": "code",
   "execution_count": null,
   "metadata": {},
   "outputs": [],
   "source": [
    "t[1]"
   ]
  },
  {
   "cell_type": "markdown",
   "metadata": {},
   "source": [
    "Tuples are immutable!"
   ]
  },
  {
   "cell_type": "code",
   "execution_count": null,
   "metadata": {},
   "outputs": [],
   "source": [
    "t[1] = 0"
   ]
  },
  {
   "cell_type": "markdown",
   "metadata": {},
   "source": [
    "### Dictionaries"
   ]
  },
  {
   "cell_type": "code",
   "execution_count": null,
   "metadata": {},
   "outputs": [],
   "source": [
    "dictionary = Dict(\"a\" =>1, \"b\" => 2)"
   ]
  },
  {
   "cell_type": "code",
   "execution_count": null,
   "metadata": {},
   "outputs": [],
   "source": [
    "dictionary[\"a\"]"
   ]
  },
  {
   "cell_type": "code",
   "execution_count": null,
   "metadata": {},
   "outputs": [],
   "source": [
    "dictionary[\"b\"] = 5"
   ]
  },
  {
   "cell_type": "code",
   "execution_count": null,
   "metadata": {},
   "outputs": [],
   "source": [
    "dictionary"
   ]
  },
  {
   "cell_type": "markdown",
   "metadata": {},
   "source": [
    "## 1.7. Comprehensions, mapping and broadcasting"
   ]
  },
  {
   "cell_type": "markdown",
   "metadata": {},
   "source": [
    "Arrays can also be build using comprehensions:"
   ]
  },
  {
   "cell_type": "code",
   "execution_count": null,
   "metadata": {},
   "outputs": [],
   "source": [
    "[i^2 for i in 1:5]"
   ]
  },
  {
   "cell_type": "markdown",
   "metadata": {},
   "source": [
    "Another way of obtaining the same is suing the `map` function:"
   ]
  },
  {
   "cell_type": "code",
   "execution_count": null,
   "metadata": {},
   "outputs": [],
   "source": [
    "map(i->i^2, 1:5)"
   ]
  },
  {
   "cell_type": "markdown",
   "metadata": {},
   "source": [
    "We can make comprehensions in multiple dimensions:"
   ]
  },
  {
   "cell_type": "code",
   "execution_count": null,
   "metadata": {},
   "outputs": [],
   "source": [
    "M = [i+j for i in 1:2, j in 1:4]"
   ]
  },
  {
   "cell_type": "markdown",
   "metadata": {},
   "source": [
    "equivalent to:"
   ]
  },
  {
   "cell_type": "code",
   "execution_count": null,
   "metadata": {},
   "outputs": [],
   "source": [
    "map(x->(x[1]+x[2]), Iterators.product(1:2, 1:4))"
   ]
  },
  {
   "cell_type": "markdown",
   "metadata": {},
   "source": [
    "We can also apply operations in a element wise way, using broadcast"
   ]
  },
  {
   "cell_type": "code",
   "execution_count": null,
   "metadata": {},
   "outputs": [],
   "source": [
    "B = sin.(array) # apply sin function to every entry"
   ]
  },
  {
   "cell_type": "code",
   "execution_count": null,
   "metadata": {},
   "outputs": [],
   "source": [
    "M .+ 1 #add 1 to every entry"
   ]
  },
  {
   "cell_type": "markdown",
   "metadata": {},
   "source": [
    "this is equivalent to"
   ]
  },
  {
   "cell_type": "code",
   "execution_count": null,
   "metadata": {},
   "outputs": [],
   "source": [
    "broadcast(+, M, 1)"
   ]
  },
  {
   "cell_type": "markdown",
   "metadata": {},
   "source": [
    "`broadcast` does the same as `map` when applied to a single iterable collection."
   ]
  },
  {
   "cell_type": "code",
   "execution_count": null,
   "metadata": {},
   "outputs": [],
   "source": [
    "M.*B #element wise multiplication"
   ]
  },
  {
   "cell_type": "markdown",
   "metadata": {},
   "source": [
    "## 1.8. Iteration and loops"
   ]
  },
  {
   "cell_type": "markdown",
   "metadata": {},
   "source": [
    "#### Loop over a range"
   ]
  },
  {
   "cell_type": "code",
   "execution_count": null,
   "metadata": {},
   "outputs": [],
   "source": [
    "for i in 1:5\n",
    "    println(i)\n",
    "end"
   ]
  },
  {
   "cell_type": "markdown",
   "metadata": {},
   "source": [
    "Let us see what is `1:10`"
   ]
  },
  {
   "cell_type": "code",
   "execution_count": null,
   "metadata": {},
   "outputs": [],
   "source": [
    "typeof(1:5)"
   ]
  },
  {
   "cell_type": "markdown",
   "metadata": {},
   "source": [
    "We can also specify the step of a range using the syntax: `start:step:stop`:"
   ]
  },
  {
   "cell_type": "code",
   "execution_count": null,
   "metadata": {},
   "outputs": [],
   "source": [
    "for i in 1:2:10\n",
    "    println(i)\n",
    "end"
   ]
  },
  {
   "cell_type": "code",
   "execution_count": null,
   "metadata": {},
   "outputs": [],
   "source": [
    "typeof(1:2:10)"
   ]
  },
  {
   "cell_type": "markdown",
   "metadata": {},
   "source": [
    "We can transform a range object into a vector using `collect`"
   ]
  },
  {
   "cell_type": "code",
   "execution_count": null,
   "metadata": {},
   "outputs": [],
   "source": [
    "collect(1:2:10)"
   ]
  },
  {
   "cell_type": "markdown",
   "metadata": {},
   "source": [
    "We can also define a range by speficying its length instead. This is done with the notation:"
   ]
  },
  {
   "cell_type": "code",
   "execution_count": null,
   "metadata": {},
   "outputs": [],
   "source": [
    "for i in range(1, 10, length = 4)\n",
    "    println(i)\n",
    "end"
   ]
  },
  {
   "cell_type": "markdown",
   "metadata": {},
   "source": [
    "`range(start, stop, step = delta)` is equivalent to `start:delta:stop`"
   ]
  },
  {
   "cell_type": "markdown",
   "metadata": {},
   "source": [
    "It is also possible to define a range by its `length` (number of elements) instead of the `step`."
   ]
  },
  {
   "cell_type": "code",
   "execution_count": null,
   "metadata": {},
   "outputs": [],
   "source": [
    "for i in range(1, 10, step = 2)\n",
    "    println(i)\n",
    "end"
   ]
  },
  {
   "cell_type": "markdown",
   "metadata": {},
   "source": [
    "#### Loop over elements of a collection"
   ]
  },
  {
   "cell_type": "code",
   "execution_count": null,
   "metadata": {},
   "outputs": [],
   "source": [
    "list = collect(1:4);"
   ]
  },
  {
   "cell_type": "markdown",
   "metadata": {},
   "source": [
    "- we can iterate over the elements of a a collection:"
   ]
  },
  {
   "cell_type": "code",
   "execution_count": null,
   "metadata": {},
   "outputs": [],
   "source": [
    "for a in list\n",
    "    println(a)\n",
    "end"
   ]
  },
  {
   "cell_type": "markdown",
   "metadata": {},
   "source": [
    "- we can iterate over the indices of the collection"
   ]
  },
  {
   "cell_type": "code",
   "execution_count": null,
   "metadata": {},
   "outputs": [],
   "source": [
    "for i in eachindex(list)\n",
    "    println((i, list[i]))\n",
    "end"
   ]
  },
  {
   "cell_type": "markdown",
   "metadata": {},
   "source": [
    "we could also make:"
   ]
  },
  {
   "cell_type": "code",
   "execution_count": null,
   "metadata": {},
   "outputs": [],
   "source": [
    "for i in 1:length(list)\n",
    "    println((i, list[i]))\n",
    "end"
   ]
  },
  {
   "cell_type": "markdown",
   "metadata": {},
   "source": [
    "`eachindex(list)` is more general than `1:length(list)`. For example"
   ]
  },
  {
   "cell_type": "code",
   "execution_count": null,
   "metadata": {},
   "outputs": [],
   "source": [
    "dict = Dict(\"a\" => 1, \"b\" => 2)"
   ]
  },
  {
   "cell_type": "code",
   "execution_count": null,
   "metadata": {},
   "outputs": [],
   "source": [
    "for i in eachindex(dict)\n",
    "    println((i, dict[i]))\n",
    "end"
   ]
  },
  {
   "cell_type": "markdown",
   "metadata": {},
   "source": [
    "- we can iterete over the pairs (index, element) of the array"
   ]
  },
  {
   "cell_type": "code",
   "execution_count": null,
   "metadata": {},
   "outputs": [],
   "source": [
    "for (i, x) in enumerate(list)\n",
    "    println(\"list[$i] = $x\")\n",
    "end"
   ]
  },
  {
   "cell_type": "markdown",
   "metadata": {},
   "source": [
    "### 1.9. Conditionals"
   ]
  },
  {
   "cell_type": "code",
   "execution_count": null,
   "metadata": {},
   "outputs": [],
   "source": [
    "function heaviside(x)\n",
    "    if x<0\n",
    "        return 0.0 \n",
    "    elseif x>0\n",
    "        return 1.0\n",
    "    else\n",
    "        return 0.5 \n",
    "    end\n",
    "end"
   ]
  },
  {
   "cell_type": "code",
   "execution_count": null,
   "metadata": {},
   "outputs": [],
   "source": [
    "heaviside(-1), heaviside(0), heaviside(1)"
   ]
  },
  {
   "cell_type": "markdown",
   "metadata": {},
   "source": [
    "OR operator:"
   ]
  },
  {
   "cell_type": "code",
   "execution_count": null,
   "metadata": {},
   "outputs": [],
   "source": [
    "(1>2) || (4>3)"
   ]
  },
  {
   "cell_type": "markdown",
   "metadata": {},
   "source": [
    "AND operator:"
   ]
  },
  {
   "cell_type": "code",
   "execution_count": null,
   "metadata": {},
   "outputs": [],
   "source": [
    "(1>2) && (4>3)"
   ]
  },
  {
   "cell_type": "markdown",
   "metadata": {},
   "source": [
    "## 2. Structs, Parametric Structs and Multiple Dispatch"
   ]
  },
  {
   "cell_type": "markdown",
   "metadata": {},
   "source": [
    "## 2.1. Structs"
   ]
  },
  {
   "cell_type": "markdown",
   "metadata": {},
   "source": [
    "Suppose that Julia did not have a complex number type built in. We could create one by defining a `struct`. Structs are composite types. We can define a complex number as:"
   ]
  },
  {
   "cell_type": "code",
   "execution_count": null,
   "metadata": {},
   "outputs": [],
   "source": [
    "struct MyComplexF64\n",
    "    real::Float64\n",
    "    imag::Float64\n",
    "end"
   ]
  },
  {
   "cell_type": "markdown",
   "metadata": {},
   "source": [
    "We have thus defined a struct with fieals real and imag, which are the real and imaginary parts of the complex number.\n",
    "\n",
    "We can now create a complex number using our `MyComplexF64` as:"
   ]
  },
  {
   "cell_type": "code",
   "execution_count": null,
   "metadata": {},
   "outputs": [],
   "source": [
    "z = MyComplexF64(1.0, 0.5)"
   ]
  },
  {
   "cell_type": "markdown",
   "metadata": {},
   "source": [
    "We can check its type:"
   ]
  },
  {
   "cell_type": "code",
   "execution_count": null,
   "metadata": {},
   "outputs": [],
   "source": [
    "typeof(z)"
   ]
  },
  {
   "cell_type": "markdown",
   "metadata": {},
   "source": [
    "We can also check the fields that are included in the struct:"
   ]
  },
  {
   "cell_type": "code",
   "execution_count": null,
   "metadata": {},
   "outputs": [],
   "source": [
    "fieldnames(typeof(z))"
   ]
  },
  {
   "cell_type": "markdown",
   "metadata": {},
   "source": [
    "The fields can be accessed as:"
   ]
  },
  {
   "cell_type": "code",
   "execution_count": null,
   "metadata": {},
   "outputs": [],
   "source": [
    "z.real, z.imag"
   ]
  },
  {
   "cell_type": "markdown",
   "metadata": {},
   "source": [
    "Notice that in the definition of the `MyComplexF64`, we have declared the types of `real` and `imag` as being `Float64`. \n",
    "\n",
    "Actually, while in the definition of functions variables types do not have to be declared, in the defintion of structs it is essential to define the type of the fields, such that efficient compiled code can be generated.\n",
    "\n",
    "## 2.2. Parametric Structs\n",
    "\n",
    "But, what if we want a complex type, whose real and imaginary parts are interegers? Let us try:"
   ]
  },
  {
   "cell_type": "code",
   "execution_count": null,
   "metadata": {},
   "outputs": [],
   "source": [
    "z1 = MyComplexF64(1, 2)"
   ]
  },
  {
   "cell_type": "code",
   "execution_count": null,
   "metadata": {},
   "outputs": [],
   "source": [
    "z1.real |> typeof # |> is the piping operator. It is similar to // in Mathematica. THis line is equivalent to typeof(z1.real)"
   ]
  },
  {
   "cell_type": "markdown",
   "metadata": {},
   "source": [
    "The integer was actually converted to a Float64. What if we really want a complex type, with integer real an imaginary parts? Naivelly we would have to define a new `struct`:"
   ]
  },
  {
   "cell_type": "code",
   "execution_count": null,
   "metadata": {},
   "outputs": [],
   "source": [
    "struct MyComplexInt\n",
    "    real::Int\n",
    "    imag::Int\n",
    "end"
   ]
  },
  {
   "cell_type": "code",
   "execution_count": null,
   "metadata": {},
   "outputs": [],
   "source": [
    "zint = MyComplexInt(1, 2)"
   ]
  },
  {
   "cell_type": "code",
   "execution_count": null,
   "metadata": {},
   "outputs": [],
   "source": [
    "typeof.((zint.real, zint.imag))"
   ]
  },
  {
   "cell_type": "markdown",
   "metadata": {},
   "source": [
    "What if we want a complex type of 32bit precision? Or any other precision? Would we have to define a new struct for every single type?\n",
    "                    \n",
    "In Julia, the answer for this is: No, you can just define a parametric type:"
   ]
  },
  {
   "cell_type": "code",
   "execution_count": null,
   "metadata": {},
   "outputs": [],
   "source": [
    "struct MyComplex{T<:Number}\n",
    "    real::T\n",
    "    imag::T\n",
    "end"
   ]
  },
  {
   "cell_type": "markdown",
   "metadata": {},
   "source": [
    "In this definition, we just promiss that both the real and imaginary parts are of the same type `T` and that `T` is a subtype of `Number`"
   ]
  },
  {
   "cell_type": "code",
   "execution_count": null,
   "metadata": {},
   "outputs": [],
   "source": [
    "Int <: Number, Float64 <: Number, Vector{Float64} <:Number"
   ]
  },
  {
   "cell_type": "code",
   "execution_count": null,
   "metadata": {},
   "outputs": [],
   "source": [
    "zf = MyComplex(1.0, 2.0)\n",
    "typeof(zf)"
   ]
  },
  {
   "cell_type": "code",
   "execution_count": null,
   "metadata": {},
   "outputs": [],
   "source": [
    "zi = MyComplex(1, 2)\n",
    "typeof(zi)"
   ]
  },
  {
   "cell_type": "code",
   "execution_count": null,
   "metadata": {},
   "outputs": [],
   "source": [
    "zb = MyComplex(big(1.0), big(2.0))\n",
    "typeof(zb)"
   ]
  },
  {
   "cell_type": "code",
   "execution_count": null,
   "metadata": {},
   "outputs": [],
   "source": [
    "zs = MyComplex(\"1\", \"2\")"
   ]
  },
  {
   "cell_type": "markdown",
   "metadata": {},
   "source": [
    "This doesn't work, because \"1\" and \"2\" are strings, and we promissed they would be `Numbers`"
   ]
  },
  {
   "cell_type": "markdown",
   "metadata": {},
   "source": [
    "Actually, complex numbers in Julia are built in this exact way: \n",
    "https://github.com/JuliaLang/julia/blob/76c1d1d262c8cee22ec4aef4b01457dc74264412/base/complex.jl#L11"
   ]
  },
  {
   "cell_type": "markdown",
   "metadata": {},
   "source": [
    "## 2.3. Multiple dispatch "
   ]
  },
  {
   "cell_type": "markdown",
   "metadata": {},
   "source": [
    "In Julia functions describe general operations that can have multiple implementations, called methods, that depend on the type of arguments that are passed to the function."
   ]
  },
  {
   "cell_type": "code",
   "execution_count": null,
   "metadata": {},
   "outputs": [],
   "source": [
    "methods(+)"
   ]
  },
  {
   "cell_type": "markdown",
   "metadata": {},
   "source": [
    "Let us consider a simple example taken from: JuliaCon 2019 | The Unreasonable Effectiveness of Multiple Dispatch | Stefan Karpinski, https://www.youtube.com/watch?v=kc9HwsxE1OY"
   ]
  },
  {
   "cell_type": "code",
   "execution_count": null,
   "metadata": {},
   "outputs": [],
   "source": [
    "abstract type Pet end\n",
    "\n",
    "struct Dog <: Pet\n",
    "    name::String\n",
    "end\n",
    "\n",
    "struct Cat <: Pet\n",
    "    name::String\n",
    "end"
   ]
  },
  {
   "cell_type": "code",
   "execution_count": null,
   "metadata": {},
   "outputs": [],
   "source": [
    "meets(a::Dog, b::Dog) = \"sniffs\"\n",
    "meets(a::Dog, b::Cat) = \"barks\"\n",
    "meets(a::Cat, b::Dog) = \"hisses\"\n",
    "meets(a::Cat, b::Cat) = \"ignores\""
   ]
  },
  {
   "cell_type": "code",
   "execution_count": null,
   "metadata": {},
   "outputs": [],
   "source": [
    "methods(meets)"
   ]
  },
  {
   "cell_type": "code",
   "execution_count": null,
   "metadata": {},
   "outputs": [],
   "source": [
    "function encounter(a::Pet, b::Pet)\n",
    "    verb = meets(a, b)\n",
    "    println(\"$(a.name) meets $(b.name) and $verb.\")\n",
    "end"
   ]
  },
  {
   "cell_type": "code",
   "execution_count": null,
   "metadata": {},
   "outputs": [],
   "source": [
    "fido = Dog(\"Fido\")\n",
    "rex = Dog(\"Rex\")\n",
    "whiskers = Cat(\"Whiskers\")\n",
    "spots = Cat(\"Spots\")\n",
    ";"
   ]
  },
  {
   "cell_type": "code",
   "execution_count": null,
   "metadata": {},
   "outputs": [],
   "source": [
    "encounter(fido, rex)\n",
    "encounter(fido, whiskers)\n",
    "encounter(whiskers, fido)\n",
    "encounter(whiskers, spots)"
   ]
  },
  {
   "cell_type": "markdown",
   "metadata": {},
   "source": [
    "Multiple dispatch allos to write generic code that can then generate specilized efficient code.\n",
    "\n",
    "E.g.: The linear algebra package `IterativeSolvers.jl` can act on any linear operator `A` provided the following operations are defined for the type of `A` (it doesn't have to be a matrix!):\n",
    "\n",
    "- `A*v` computes the matrix-vector product on a v::AbstractVector;\n",
    "- `mul!(y, A, v)` computes the matrix-vector product on a v::AbstractVector in-place;\n",
    "- `eltype(A)` returns the element type implicit in the equivalent matrix representation of A;\n",
    "- `size(A, d)` returns the nominal dimensions along the dth axis in the equivalent matrix representation of A."
   ]
  },
  {
   "cell_type": "markdown",
   "metadata": {},
   "source": [
    "## 3. Type stability\n",
    "\n",
    "An important concept in Julia programming is that of type stability. In a Julia function, it is not necessary to declare the type of any variable (no extra performance is gained, types are only declared if we want to **resctrict** the use of a certain function with certain types). \n",
    "\n",
    "Julia performs what is called type inference: once a function is called with certain argumen types, it tries to determine all the types of variables that appear in the function. If it is possible to determined all the variable types in a function, given the types of the function arguments, the function is type stable. The compiled code generated for type stable functions will be very efficient. Otherwise, the generated code is slow.\n",
    "\n",
    "Fortunatelly, Julia provides a tool to determine if a given function is type stable: `@code_warntype`\n",
    "\n",
    "In general, it is easy to write type stable code (just don't say that `x` is a Float64 and later use the same `x` to refer to an array). However some case might be tricky. Let us study or `heaviside` function.\n",
    "\n"
   ]
  },
  {
   "cell_type": "code",
   "execution_count": null,
   "metadata": {},
   "outputs": [],
   "source": [
    "function heaviside(x)\n",
    "    if x<0\n",
    "        return 0.0 \n",
    "    elseif x>0\n",
    "        return 1.0\n",
    "    else\n",
    "        return 0.5 \n",
    "    end\n",
    "end"
   ]
  },
  {
   "cell_type": "code",
   "execution_count": null,
   "metadata": {},
   "outputs": [],
   "source": [
    "@code_warntype heaviside(2)"
   ]
  },
  {
   "cell_type": "code",
   "execution_count": null,
   "metadata": {},
   "outputs": [],
   "source": [
    "@code_warntype heaviside(-1.0)"
   ]
  },
  {
   "cell_type": "code",
   "execution_count": null,
   "metadata": {},
   "outputs": [],
   "source": [
    "@code_warntype heaviside(0.0)"
   ]
  },
  {
   "cell_type": "markdown",
   "metadata": {},
   "source": [
    "It is type stable! It always returns a Float64."
   ]
  },
  {
   "cell_type": "code",
   "execution_count": null,
   "metadata": {},
   "outputs": [],
   "source": [
    "function bad_heaviside(x)\n",
    "    if x<0\n",
    "        return 0\n",
    "    elseif x>0\n",
    "        return 1\n",
    "    else\n",
    "        return 0.5 \n",
    "    end\n",
    "end"
   ]
  },
  {
   "cell_type": "code",
   "execution_count": null,
   "metadata": {},
   "outputs": [],
   "source": [
    "@code_warntype bad_heaviside(0.0)"
   ]
  },
  {
   "cell_type": "code",
   "execution_count": null,
   "metadata": {},
   "outputs": [],
   "source": [
    "@code_warntype bad_heaviside(1.0)"
   ]
  },
  {
   "cell_type": "markdown",
   "metadata": {},
   "source": [
    "It is type unstable: if x != 0 it returns a Int, but if x == 0 returns a Float64. The return type depends not on the type of the arguments, but on their values! "
   ]
  },
  {
   "cell_type": "markdown",
   "metadata": {},
   "source": [
    "## 4. Parallel computing"
   ]
  },
  {
   "cell_type": "markdown",
   "metadata": {},
   "source": [
    "## 4.1. Distributed memory"
   ]
  },
  {
   "cell_type": "code",
   "execution_count": null,
   "metadata": {},
   "outputs": [],
   "source": [
    "using Distributed"
   ]
  },
  {
   "cell_type": "code",
   "execution_count": null,
   "metadata": {},
   "outputs": [],
   "source": [
    "nprocs()"
   ]
  },
  {
   "cell_type": "markdown",
   "metadata": {},
   "source": [
    "We can add julia processes on the fly. Theses are additional Julia instances."
   ]
  },
  {
   "cell_type": "code",
   "execution_count": null,
   "metadata": {},
   "outputs": [],
   "source": [
    "addprocs(3) # this adds 3 julia processes"
   ]
  },
  {
   "cell_type": "code",
   "execution_count": null,
   "metadata": {},
   "outputs": [],
   "source": [
    "nprocs(), nworkers()"
   ]
  },
  {
   "cell_type": "code",
   "execution_count": null,
   "metadata": {},
   "outputs": [],
   "source": [
    "for i in procs()\n",
    "    @spawnat i println(myid())\n",
    "end"
   ]
  },
  {
   "cell_type": "markdown",
   "metadata": {},
   "source": [
    "We can run a function in a given process and obtain the value:"
   ]
  },
  {
   "cell_type": "code",
   "execution_count": null,
   "metadata": {},
   "outputs": [],
   "source": [
    "remotecall_fetch(sqrt, procs()[2], 2.0)"
   ]
  },
  {
   "cell_type": "markdown",
   "metadata": {},
   "source": [
    "If we want to call a user defined function on another process, we have to make it available to that process. We can define a function in all processes with `@averywhere`"
   ]
  },
  {
   "cell_type": "code",
   "execution_count": null,
   "metadata": {},
   "outputs": [],
   "source": [
    "@everywhere f(x) = sqrt(1-x)"
   ]
  },
  {
   "cell_type": "code",
   "execution_count": null,
   "metadata": {},
   "outputs": [],
   "source": [
    "t = @spawnat 8 f(0.5)"
   ]
  },
  {
   "cell_type": "code",
   "execution_count": null,
   "metadata": {},
   "outputs": [],
   "source": [
    "fetch(t)"
   ]
  },
  {
   "cell_type": "code",
   "execution_count": null,
   "metadata": {},
   "outputs": [],
   "source": [
    "remotecall_fetch(sqrt, workers()[1], 0.5)"
   ]
  },
  {
   "cell_type": "markdown",
   "metadata": {},
   "source": [
    "### Higher level interfaces: pmap and distributed for loop"
   ]
  },
  {
   "cell_type": "code",
   "execution_count": null,
   "metadata": {},
   "outputs": [],
   "source": [
    "pmap(f, 0.0:0.01:0.9) # this is a distributed version of map"
   ]
  },
  {
   "cell_type": "code",
   "execution_count": null,
   "metadata": {},
   "outputs": [],
   "source": [
    "@distributed (+) for x in 0.0:0.01:0.9\n",
    "    f(x)\n",
    "end"
   ]
  },
  {
   "cell_type": "code",
   "execution_count": null,
   "metadata": {},
   "outputs": [],
   "source": [
    "sum(pmap(f, 0.0:0.01:0.9))"
   ]
  },
  {
   "cell_type": "code",
   "execution_count": null,
   "metadata": {},
   "outputs": [],
   "source": [
    "rmprocs(workers()) # remove workers"
   ]
  },
  {
   "cell_type": "code",
   "execution_count": null,
   "metadata": {},
   "outputs": [],
   "source": [
    "procs()"
   ]
  },
  {
   "cell_type": "markdown",
   "metadata": {},
   "source": [
    "## 4.2. Shared memory"
   ]
  },
  {
   "cell_type": "markdown",
   "metadata": {},
   "source": [
    "We can also use shared memory parallelism using Julia threads"
   ]
  },
  {
   "cell_type": "code",
   "execution_count": null,
   "metadata": {},
   "outputs": [],
   "source": [
    "Threads.nthreads()"
   ]
  },
  {
   "cell_type": "code",
   "execution_count": null,
   "metadata": {},
   "outputs": [],
   "source": [
    "Threads can be used eitheir using a static schedule:"
   ]
  },
  {
   "cell_type": "code",
   "execution_count": null,
   "metadata": {},
   "outputs": [],
   "source": [
    "a = zeros(Int, 16);"
   ]
  },
  {
   "cell_type": "code",
   "execution_count": null,
   "metadata": {},
   "outputs": [],
   "source": [
    "Threads.@threads for i in eachindex(a)\n",
    "    a[i] = Threads.threadid()\n",
    "end\n",
    "a"
   ]
  },
  {
   "cell_type": "markdown",
   "metadata": {},
   "source": [
    "or a dynamic schedule:"
   ]
  },
  {
   "cell_type": "code",
   "execution_count": null,
   "metadata": {},
   "outputs": [],
   "source": [
    "Threads.@sync for i in eachindex(a)\n",
    "    Threads.@spawn a[i] = Threads.threadid()\n",
    "end\n",
    "a"
   ]
  },
  {
   "cell_type": "markdown",
   "metadata": {},
   "source": [
    "Let us initialize an array in parallel:"
   ]
  },
  {
   "cell_type": "code",
   "execution_count": null,
   "metadata": {},
   "outputs": [],
   "source": [
    "w = zeros(length(0.0:0.1:1.0))\n",
    "\n",
    "g(x) = x^2 + 1\n",
    "\n",
    "Threads.@sync for (i, x) in enumerate(0.0:0.1:1.0)\n",
    "    Threads.@spawn w[i] = g(x)\n",
    "end\n",
    "w"
   ]
  },
  {
   "cell_type": "code",
   "execution_count": null,
   "metadata": {},
   "outputs": [],
   "source": [
    "? @Threads.threads"
   ]
  },
  {
   "cell_type": "code",
   "execution_count": null,
   "metadata": {},
   "outputs": [],
   "source": [
    "xx = collect(0.0:0.1:1.0)\n",
    "q = zeros(length(xx))\n",
    "\n",
    "@Threads.threads for i in eachindex(xx)\n",
    "    q[i] = g(xx[i])\n",
    "end\n",
    "q"
   ]
  },
  {
   "cell_type": "markdown",
   "metadata": {},
   "source": [
    "The packages: `ThreadsX.jl` (https://github.com/tkf/ThreadsX.jl) and `FLoops.jl` (https://github.com/JuliaFolds/FLoops.jl) provide higher level interfaces to multithreading than the base `Threads.@threads`,  `Threads.@spwan` and  `Threads.@sync` do. They are very promessing, but more recent and therefore, lees tested in day to day usage.  "
   ]
  },
  {
   "cell_type": "markdown",
   "metadata": {},
   "source": [
    "## 5. Using Julia to solve physics problems"
   ]
  },
  {
   "cell_type": "markdown",
   "metadata": {},
   "source": [
    "## 5.1. The 1D Spin-1/2 Heisenberg model\n",
    "\n",
    "The Hamiltonian for the spin-1/2 1D Heisenberg model reads:\n",
    "\n",
    "$$H = -J\\sum_n \\left( X_{n} X_{n+1} + Y_{n} Y_{n+1} + Z_{n} Z_{n+1} \\right)$$\n",
    "\n",
    "where\n",
    "\n",
    "$$X_n = I_1 \\otimes ...\\otimes I_{n-1} \\otimes \\sigma^x_n \\otimes I_{n+1} \\otimes ... \\otimes I_N$$\n",
    "$$Y_n = I_1 \\otimes ...\\otimes I_{n-1} \\otimes \\sigma^y_n \\otimes I_{n+1} \\otimes ... \\otimes I_N$$\n",
    "$$Z_n = I_1 \\otimes ...\\otimes I_{n-1} \\otimes \\sigma^z_n \\otimes I_{n+1} \\otimes ... \\otimes I_N$$"
   ]
  },
  {
   "cell_type": "markdown",
   "metadata": {},
   "source": [
    "Let us implement this in Julia"
   ]
  },
  {
   "cell_type": "code",
   "execution_count": null,
   "metadata": {},
   "outputs": [],
   "source": [
    "using LinearAlgebra, SparseArrays"
   ]
  },
  {
   "cell_type": "code",
   "execution_count": null,
   "metadata": {},
   "outputs": [],
   "source": [
    "sX = 1/2*sparse([0.0im 1.0; 1.0 0.0im])\n",
    "sY = 1/2*sparse([0.0im -1.0im; 1.0im 0.0im])\n",
    "sZ = 1/2*sparse([1.0 0im; 0im -1.0])"
   ]
  },
  {
   "cell_type": "code",
   "execution_count": null,
   "metadata": {},
   "outputs": [],
   "source": [
    "Matrix(sZ)"
   ]
  },
  {
   "cell_type": "code",
   "execution_count": null,
   "metadata": {},
   "outputs": [],
   "source": [
    "⊗(x, y) = kron(x, y)"
   ]
  },
  {
   "cell_type": "code",
   "execution_count": null,
   "metadata": {},
   "outputs": [],
   "source": [
    "id(n) = sparse(I, 2^n,2^n)\n",
    "X(i::Int,n::Int)= id(i-1)⊗sX⊗id(n-i)\n",
    "Y(i::Int,n::Int)= id(i-1)⊗sY⊗id(n-i)\n",
    "Z(i::Int,n::Int)= id(i-1)⊗sZ⊗id(n-i)\n",
    ";"
   ]
  },
  {
   "cell_type": "code",
   "execution_count": null,
   "metadata": {},
   "outputs": [],
   "source": [
    "function Heisenberg(n, Jx, Jy, Jz; periodic = false)\n",
    "    \n",
    "    ham = Jx*X(1,n)*X(2,n) + Jy*Y(1,n)*Y(2,n) + Jz*Z(1,n)*Z(2,n)\n",
    "    \n",
    "    for i=2:(n-1)\n",
    "        ham += Jx*X(i,n)*X(i+1,n) + Jy*Y(i,n)*Y(i+1,n) + Jz*Z(i,n)*Z(i+1,n)\n",
    "    end\n",
    "    \n",
    "    ham += periodic*(Jx*X(n,n)*X(1,n) + Jy*Y(n,n)*Y(1,n) + Jz*Z(n,n)*Z(1,n))\n",
    "    \n",
    "    return ham\n",
    "end"
   ]
  },
  {
   "cell_type": "code",
   "execution_count": null,
   "metadata": {},
   "outputs": [],
   "source": [
    "using Pkg\n",
    "Pkg.add(\"KrylovKit\") # let us install a package to compute eigenvalues using Arnoldi method"
   ]
  },
  {
   "cell_type": "code",
   "execution_count": null,
   "metadata": {},
   "outputs": [],
   "source": [
    "using KrylovKit"
   ]
  },
  {
   "cell_type": "code",
   "execution_count": null,
   "metadata": {},
   "outputs": [],
   "source": [
    "function HeisenberGroundState(ns)\n",
    "    \n",
    "    E0 = Float64[]\n",
    "    \n",
    "    for N in ns\n",
    "        h = Heisenberg(N, 1, 1, 1)\n",
    "        \n",
    "        vals, vecs, hist =  eigsolve(h, 4, :LM, tol = eps()*1000)\n",
    "        \n",
    "        push!(E0, vals[1]/N)\n",
    "    \n",
    "    end\n",
    "    \n",
    "    return E0\n",
    "end"
   ]
  },
  {
   "cell_type": "code",
   "execution_count": null,
   "metadata": {},
   "outputs": [],
   "source": [
    "Egs = HeisenberGroundState(4:16)"
   ]
  },
  {
   "cell_type": "code",
   "execution_count": null,
   "metadata": {},
   "outputs": [],
   "source": [
    "using Plots"
   ]
  },
  {
   "cell_type": "code",
   "execution_count": null,
   "metadata": {},
   "outputs": [],
   "source": [
    "scatter(4:16, Egs)"
   ]
  },
  {
   "cell_type": "code",
   "execution_count": null,
   "metadata": {},
   "outputs": [],
   "source": [
    "Pkg.add(\"LsqFit\")\n",
    "using LsqFit"
   ]
  },
  {
   "cell_type": "code",
   "execution_count": null,
   "metadata": {},
   "outputs": [],
   "source": [
    "@. model(l, p) = p[1] + p[2]/l + p[3]/l^2 + p[4]/l^3 + p[5]/l^4"
   ]
  },
  {
   "cell_type": "code",
   "execution_count": null,
   "metadata": {},
   "outputs": [],
   "source": [
    "p0 = [0.4, 1.0, 1.0, 1.0, 1.0]\n",
    "fiteven = curve_fit(model, collect(4:2:16), Egs[1:2:end], p0)\n",
    "fiteven.param"
   ]
  },
  {
   "cell_type": "code",
   "execution_count": null,
   "metadata": {},
   "outputs": [],
   "source": [
    "fitodd = curve_fit(model, collect(5:2:16), Egs[2:2:end], p0)\n",
    "fitodd.param"
   ]
  },
  {
   "cell_type": "code",
   "execution_count": null,
   "metadata": {},
   "outputs": [],
   "source": [
    "E0inf = (fiteven.param[1] + fitodd.param[1])/2"
   ]
  },
  {
   "cell_type": "code",
   "execution_count": null,
   "metadata": {},
   "outputs": [],
   "source": [
    "E0exact = -log(2) + 1/4"
   ]
  },
  {
   "cell_type": "code",
   "execution_count": null,
   "metadata": {},
   "outputs": [],
   "source": [
    "scatter(4:16, Egs, label = \"ED\")\n",
    "plot!(4:0.5:16, model(4:0.5:16, fiteven.param), label = \"Fit even\")\n",
    "plot!(4:0.5:16, model(4:0.5:16, fitodd.param), label = \"Fit odd\")\n",
    "plot!(4:0.5:16, [E0inf for i in 4:0.5:16], label = \"assymptotic\")\n",
    "plot!(4:0.5:16, [E0exact for i in 4:0.5:16], label = \"Exact\")"
   ]
  },
  {
   "cell_type": "markdown",
   "metadata": {},
   "source": [
    "## 5.2. Tight binding Hamiltonians\n",
    "\n",
    "A tight binding Hamiltonian is written as\n",
    "\n",
    "$$H = \\sum_{i, j, \\mathbf{R}, \\mathbf{t}} h^{i, j}_\\mathbf{t} c^\\dagger_{\\mathbf{R}+\\mathbf{t}, i} c_{\\mathbf{R}, j}$$\n",
    "\n",
    "To define a tight binding Hamiltonian in a periodic system we need:\n",
    "- A lattice basis;\n",
    "- The position of the atomic orbitals in the unit cell;\n",
    "- a list of hopping. A hopping is index by the source orbital, destiny orbital and the translation vector that connects the two orbitals."
   ]
  },
  {
   "cell_type": "code",
   "execution_count": null,
   "metadata": {},
   "outputs": [],
   "source": [
    "using StaticArrays # useful package when dealing with small arrays"
   ]
  },
  {
   "cell_type": "code",
   "execution_count": null,
   "metadata": {},
   "outputs": [],
   "source": [
    "struct LatticeBasis{ED, LD, T, ELD}\n",
    "    matrix::SMatrix{ED, LD, T, ELD}\n",
    "end\n",
    "\n",
    "function LatticeBasis(vecs::SVector{E, T}...) where {E, T}\n",
    "\n",
    "    return LatticeBasis(hcat(vecs...))\n",
    "\n",
    "end\n",
    "\n",
    "Base.getindex(A::LatticeBasis, n) = A.matrix[:, n]"
   ]
  },
  {
   "cell_type": "code",
   "execution_count": null,
   "metadata": {},
   "outputs": [],
   "source": [
    "struct Orbital{ED, T}\n",
    "    position::SVector{ED, T}\n",
    "end"
   ]
  },
  {
   "cell_type": "code",
   "execution_count": null,
   "metadata": {},
   "outputs": [],
   "source": [
    "struct Hopping{LD, Tv}\n",
    "    scr::Int\n",
    "    dst::Int\n",
    "    translation::SVector{LD, Int}\n",
    "    value::Tv\n",
    "end"
   ]
  },
  {
   "cell_type": "code",
   "execution_count": null,
   "metadata": {},
   "outputs": [],
   "source": [
    "struct TBHamiltonian{Th, ED, LD, Tl, ELD}\n",
    "    latbasis::LatticeBasis{ED, LD, Tl, ELD}\n",
    "    orbitals::Vector{Orbital{ED, Tl}}\n",
    "    hoppings::Vector{Hopping{LD, Th}}\n",
    "end"
   ]
  },
  {
   "cell_type": "code",
   "execution_count": null,
   "metadata": {},
   "outputs": [],
   "source": [
    "function TBHamiltonian(::Type{Th}, vecs::Vararg{SVector{ED, Tl}, LD}) where {ED, LD, Tl<:Number, Th<:Number}\n",
    "\n",
    "    latbasis = LatticeBasis(vecs...)\n",
    "    orbitals = Orbital{ED, Tl}[]\n",
    "    hoppings = Hopping{LD, Th}[]\n",
    "    return TBHamiltonian(latbasis, orbitals, hoppings)\n",
    "\n",
    "end\n",
    "\n",
    "function add_orbital!(tb::TBHamiltonian, position)\n",
    "    \n",
    "    push!(tb.orbitals, Orbital(position))\n",
    "    \n",
    "end\n",
    "\n",
    "function add_hopping!(tb::TBHamiltonian, scr, dst, t, h)\n",
    "    \n",
    "    push!(tb.hoppings, Hopping(scr, dst, t, h))\n",
    "    \n",
    "end"
   ]
  },
  {
   "cell_type": "code",
   "execution_count": null,
   "metadata": {},
   "outputs": [],
   "source": [
    "function hamiltonian(tb::TBHamiltonian{Th}, k) where Th <:Number\n",
    "    norbitals = length(tb.orbitals)\n",
    "    h = zeros(complex(Th), norbitals, norbitals)\n",
    "    \n",
    "    for hopping in tb.hoppings\n",
    "        \n",
    "        h[hopping.dst, hopping.scr] += hopping.value*cis(dot(k, tb.latbasis.matrix*hopping.translation))\n",
    "        \n",
    "    end\n",
    "    \n",
    "    return h\n",
    "end"
   ]
  },
  {
   "cell_type": "code",
   "execution_count": null,
   "metadata": {},
   "outputs": [],
   "source": [
    "function bandstructure(tb::TBHamiltonian, kpts)\n",
    "    \n",
    "    norbitals = length(tb.orbitals)\n",
    "    nkpts = length(kpts)\n",
    "    \n",
    "    energies = zeros(norbitals, nkpts)\n",
    "    for (k, kpt) in enumerate(kpts)\n",
    "        \n",
    "        h = hamiltonian(tb, kpt)\n",
    "        \n",
    "        vals, vecs = eigen(h)\n",
    "        \n",
    "        energies[:, k] .= vals\n",
    "        \n",
    "    end\n",
    "    \n",
    "    return energies\n",
    "end"
   ]
  },
  {
   "cell_type": "code",
   "execution_count": null,
   "metadata": {},
   "outputs": [],
   "source": [
    "function path(v::Vector{SVector{D, T}}, npts::Int) where {D, T<:Real}\n",
    "\n",
    "    lengths = [norm(v[i+1] - v[i]) for i=1:length(v)-1]\n",
    "    cumlengths = [sum(lengths[1:i]) for i=1:length(lengths)]\n",
    "\n",
    "    totallength = cumlengths[end]\n",
    "\n",
    "    dx = totallength/npts\n",
    "\n",
    "    pNpts = floor.(lengths/dx)\n",
    "\n",
    "    kpts = [v[1] + (v[2]-v[1])*(n-1)/pNpts[1] for n=1:pNpts[1]]\n",
    "    arc = [norm((v[2]-v[1])*(n-1)/pNpts[1]) for n=1:pNpts[1]]\n",
    "\n",
    "    for p=2:length(v)-1\n",
    "\n",
    "        append!(kpts, [v[p] + (v[p+1]-v[p])*(n-1)/pNpts[p] for n=1:pNpts[p]])\n",
    "        append!(arc, \n",
    "                [\n",
    "                arc[end] + norm((v[p]-v[p-1])/pNpts[p-1]) + norm((v[p+1]-v[p])*(n-1)/pNpts[p]) for n=1:pNpts[p]]\n",
    "            )\n",
    "    end\n",
    "\n",
    "    append!(kpts, [v[end]])\n",
    "    append!(arc, [arc[end] + norm((v[end]-v[end-1])/pNpts[end])])\n",
    "    prepend!(cumlengths, [0.0])\n",
    "\n",
    "\n",
    "    return kpts, arc, v, cumlengths\n",
    "\n",
    "end"
   ]
  },
  {
   "cell_type": "markdown",
   "metadata": {},
   "source": [
    "Let us define graphene:"
   ]
  },
  {
   "cell_type": "code",
   "execution_count": null,
   "metadata": {},
   "outputs": [],
   "source": [
    "a1 = SA[1/2, sqrt(3)/2]\n",
    "a2 = SA[-1/2, sqrt(3)/2]\n",
    "\n",
    "sA = SA[0.0, 0.0]\n",
    "sB = SA[0.0, 1/sqrt(3)]\n",
    "\n",
    "graphene = TBHamiltonian(Float64, a1, a2)\n",
    "\n",
    "add_orbital!(graphene, sA)\n",
    "add_orbital!(graphene, sB)\n",
    "\n",
    "add_hopping!(graphene, 1, 2, SA[0, 0], -1.0)\n",
    "add_hopping!(graphene, 2, 1, SA[0, 0], -1.0)\n",
    "\n",
    "add_hopping!(graphene, 2, 1, SA[1, 0], -1.0)\n",
    "add_hopping!(graphene, 2, 1, SA[0, 1], -1.0)\n",
    "\n",
    "add_hopping!(graphene, 1, 2, SA[-1, 0], -1.0)\n",
    "add_hopping!(graphene, 1, 2, SA[0, -1], -1.0)\n",
    ";"
   ]
  },
  {
   "cell_type": "code",
   "execution_count": null,
   "metadata": {},
   "outputs": [],
   "source": [
    "B = 2*pi*transpose(inv(graphene.latbasis.matrix)) # reciprocal basis\n",
    "\n",
    "b1, b2 = B[:, 1], B[:, 2]\n",
    "\n",
    "Γ = SA[0.0, 0.0]\n",
    "K = (b1-b2)/3\n",
    "M = b1/2\n",
    "\n",
    "kpts, arc, vertices, vertarc = path([Γ, K, M, Γ], 100);"
   ]
  },
  {
   "cell_type": "code",
   "execution_count": null,
   "metadata": {},
   "outputs": [],
   "source": [
    "scatter([k[1] for k in kpts], [k[2] for k in kpts])"
   ]
  },
  {
   "cell_type": "code",
   "execution_count": null,
   "metadata": {},
   "outputs": [],
   "source": [
    "Enk = bandstructure(graphene, kpts)"
   ]
  },
  {
   "cell_type": "code",
   "execution_count": null,
   "metadata": {},
   "outputs": [],
   "source": [
    "plot(arc, Enk[1, :])\n",
    "plot!(arc, Enk[2, :])"
   ]
  },
  {
   "cell_type": "code",
   "execution_count": null,
   "metadata": {},
   "outputs": [],
   "source": []
  }
 ],
 "metadata": {
  "kernelspec": {
   "display_name": "Julia (8 threads) 1.5.3",
   "language": "julia",
   "name": "julia-(8-threads)-1.5"
  },
  "language_info": {
   "file_extension": ".jl",
   "mimetype": "application/julia",
   "name": "julia",
   "version": "1.5.3"
  }
 },
 "nbformat": 4,
 "nbformat_minor": 4
}
